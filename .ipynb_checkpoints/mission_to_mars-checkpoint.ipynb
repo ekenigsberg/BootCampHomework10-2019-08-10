{
 "cells": [
  {
   "cell_type": "markdown",
   "metadata": {},
   "source": [
    "# Mission to Mars"
   ]
  },
  {
   "cell_type": "markdown",
   "metadata": {},
   "source": [
    "## 1) Scraping"
   ]
  },
  {
   "cell_type": "markdown",
   "metadata": {},
   "source": [
    "### 1.1) import libs, initialize vars, scrape 3 \"static\" pages, and save in Soup object list"
   ]
  },
  {
   "cell_type": "code",
   "execution_count": 1,
   "metadata": {},
   "outputs": [],
   "source": [
    "# import libraries\n",
    "from bs4 import BeautifulSoup as bs\n",
    "from splinter import Browser\n",
    "import pandas as pd\n",
    "import time"
   ]
  },
  {
   "cell_type": "code",
   "execution_count": 2,
   "metadata": {},
   "outputs": [],
   "source": [
    "# define \"static\" list of URLs. These are the pages that can be scraped without browser interaction.\n",
    "lstURL = ['https://mars.nasa.gov/news', \\\n",
    "          'https://twitter.com/marswxreport?lang=en', \\\n",
    "          'https://space-facts.com/mars']"
   ]
  },
  {
   "cell_type": "code",
   "execution_count": 3,
   "metadata": {},
   "outputs": [],
   "source": [
    "# define list of Soup objects\n",
    "lstSoup = []"
   ]
  },
  {
   "cell_type": "code",
   "execution_count": 4,
   "metadata": {},
   "outputs": [],
   "source": [
    "# define the function to initiatize the Splinter/ChromeDriver browser.\n",
    "# chromedriver.exe is assumed to be in the same dir as the code\n",
    "def init_browser():\n",
    "    strPath = {\"executable_path\": \"chromedriver.exe\"}\n",
    "    return Browser(\"chrome\", **strPath, headless=False)"
   ]
  },
  {
   "cell_type": "code",
   "execution_count": 5,
   "metadata": {},
   "outputs": [],
   "source": [
    "# initialize browser\n",
    "brsr = init_browser()"
   ]
  },
  {
   "cell_type": "code",
   "execution_count": 6,
   "metadata": {},
   "outputs": [],
   "source": [
    "# iterate thru list of URLs and populate list of Soup objects\n",
    "for strURL in lstURL:\n",
    "    # visit NASA's Mars News website\n",
    "    brsr.visit(strURL)\n",
    "    # pause 1 second\n",
    "    time.sleep(1)\n",
    "    # scrape page into Soup\n",
    "    html = brsr.html\n",
    "    lstSoup.append(bs(html, 'html.parser'))"
   ]
  },
  {
   "cell_type": "code",
   "execution_count": 7,
   "metadata": {},
   "outputs": [],
   "source": [
    "# quit browser\n",
    "brsr.quit()"
   ]
  },
  {
   "cell_type": "markdown",
   "metadata": {},
   "source": [
    "### 1.2) _NASA Mars News_: grab latest Title and Paragraph Text"
   ]
  },
  {
   "cell_type": "code",
   "execution_count": 8,
   "metadata": {},
   "outputs": [],
   "source": [
    "# capture News Title:\n",
    "# 1) define vars to capture News Title and count errors\n",
    "news_title = ''\n",
    "intErr = 0\n",
    "# 2) get all divs with the class \"image_and_description_container\"\n",
    "soupIDC = lstSoup[0].find_all('div', class_='image_and_description_container')\n",
    "# 3) iterate thru divs for Title\n",
    "for tagOuter in soupIDC:\n",
    "    while news_title == '':\n",
    "        tagInner = tagOuter.find('div', class_='content_title')\n",
    "        try:\n",
    "            news_title = tagInner.text\n",
    "        except AttributeError as e:\n",
    "            intErr+=intErr"
   ]
  },
  {
   "cell_type": "code",
   "execution_count": 9,
   "metadata": {},
   "outputs": [],
   "source": [
    "# capture Paragraph Text:\n",
    "# 1) define var to capture Paragraph Text\n",
    "news_p = ''\n",
    "# 2) get all divs with the class \"article_teaser_body\"\n",
    "soupATB = lstSoup[0].find_all('div', class_='article_teaser_body')\n",
    "# 3) iterate thru divs for Paragraph Text\n",
    "for tagOuter in soupATB:\n",
    "    while news_p == '':\n",
    "        try:\n",
    "            news_p = tagOuter.text\n",
    "        except AttributeError as e:\n",
    "            intErr+=intErr"
   ]
  },
  {
   "cell_type": "code",
   "execution_count": 10,
   "metadata": {},
   "outputs": [
    {
     "data": {
      "text/plain": [
       "(\"Space Samples Link NASA's Apollo 11 and Mars 2020\",\n",
       " \"While separated by half a century, NASA's Apollo 11 and Mars 2020 missions share the same historic goal: returning samples to Earth.\",\n",
       " 0)"
      ]
     },
     "execution_count": 10,
     "metadata": {},
     "output_type": "execute_result"
    }
   ],
   "source": [
    "# show results\n",
    "news_title, news_p, intErr"
   ]
  },
  {
   "cell_type": "markdown",
   "metadata": {},
   "source": [
    "### 1.3) _Mars Weather_: grab tweet text"
   ]
  },
  {
   "cell_type": "code",
   "execution_count": 11,
   "metadata": {},
   "outputs": [
    {
     "data": {
      "text/plain": [
       "'InSight sol 251 (2019-08-11) low -101.0ºC (-149.7ºF) high -26.5ºC (-15.8ºF)\\nwinds from the SSE at 4.1 m/s (9.2 mph) gusting to 17.5 m/s (39.1 mph)\\npressure at 7.60 hPa'"
      ]
     },
     "execution_count": 11,
     "metadata": {},
     "output_type": "execute_result"
    }
   ],
   "source": [
    "# capture latest weather Tweet:\n",
    "mars_weather = lstSoup[1].find('p', class_='TweetTextSize').contents[0]\n",
    "mars_weather"
   ]
  },
  {
   "cell_type": "markdown",
   "metadata": {},
   "source": [
    "### 1.4) _Mars Facts_: grab facts table"
   ]
  },
  {
   "cell_type": "code",
   "execution_count": 12,
   "metadata": {},
   "outputs": [
    {
     "data": {
      "text/plain": [
       "'<table class=\"tablepress tablepress-id-p-mars\" id=\"tablepress-p-mars\">\\n <tbody>\\n  <tr class=\"row-1 odd\">\\n   <td class=\"column-1\">\\n    <strong>\\n     Equatorial Diameter:\\n    </strong>\\n   </td>\\n   <td class=\"column-2\">\\n    6,792 km\\n    <br/>\\n   </td>\\n  </tr>\\n  <tr class=\"row-2 even\">\\n   <td class=\"column-1\">\\n    <strong>\\n     Polar Diameter:\\n    </strong>\\n   </td>\\n   <td class=\"column-2\">\\n    6,752 km\\n    <br/>\\n   </td>\\n  </tr>\\n  <tr class=\"row-3 odd\">\\n   <td class=\"column-1\">\\n    <strong>\\n     Mass:\\n    </strong>\\n   </td>\\n   <td class=\"column-2\">\\n    6.39 × 10^23 kg\\n    <br/>\\n    (0.11 Earths)\\n   </td>\\n  </tr>\\n  <tr class=\"row-4 even\">\\n   <td class=\"column-1\">\\n    <strong>\\n     Moons:\\n    </strong>\\n   </td>\\n   <td class=\"column-2\">\\n    2 (\\n    <a href=\"https://space-facts.com/moons/phobos/\">\\n     Phobos\\n    </a>\\n    &amp;\\n    <a href=\"https://space-facts.com/moons/deimos/\">\\n     Deimos\\n    </a>\\n    )\\n   </td>\\n  </tr>\\n  <tr class=\"row-5 odd\">\\n   <td class=\"column-1\">\\n    <strong>\\n     Orbit Distance:\\n    </strong>\\n   </td>\\n   <td class=\"column-2\">\\n    227,943,824 km\\n    <br/>\\n    (1.38 AU)\\n   </td>\\n  </tr>\\n  <tr class=\"row-6 even\">\\n   <td class=\"column-1\">\\n    <strong>\\n     Orbit Period:\\n    </strong>\\n   </td>\\n   <td class=\"column-2\">\\n    687 days (1.9 years)\\n    <br/>\\n   </td>\\n  </tr>\\n  <tr class=\"row-7 odd\">\\n   <td class=\"column-1\">\\n    <strong>\\n     Surface Temperature:\\n    </strong>\\n   </td>\\n   <td class=\"column-2\">\\n    -87 to -5 °C\\n   </td>\\n  </tr>\\n  <tr class=\"row-8 even\">\\n   <td class=\"column-1\">\\n    <strong>\\n     First Record:\\n    </strong>\\n   </td>\\n   <td class=\"column-2\">\\n    2nd millennium BC\\n   </td>\\n  </tr>\\n  <tr class=\"row-9 odd\">\\n   <td class=\"column-1\">\\n    <strong>\\n     Recorded By:\\n    </strong>\\n   </td>\\n   <td class=\"column-2\">\\n    Egyptian astronomers\\n   </td>\\n  </tr>\\n </tbody>\\n</table>'"
      ]
     },
     "execution_count": 12,
     "metadata": {},
     "output_type": "execute_result"
    }
   ],
   "source": [
    "# find the second table (index=1) and simplify it with prettify()\n",
    "htmlMarsFacts = lstSoup[2].find_all('table')[1].prettify()\n",
    "htmlMarsFacts"
   ]
  },
  {
   "cell_type": "code",
   "execution_count": 13,
   "metadata": {},
   "outputs": [
    {
     "data": {
      "text/plain": [
       "[                      0                               1\n",
       " 0  Equatorial Diameter:                        6,792 km\n",
       " 1       Polar Diameter:                        6,752 km\n",
       " 2                 Mass:  6.39 × 10^23 kg  (0.11 Earths)\n",
       " 3                Moons:       2 (  Phobos  &  Deimos  )\n",
       " 4       Orbit Distance:       227,943,824 km  (1.38 AU)\n",
       " 5         Orbit Period:            687 days (1.9 years)\n",
       " 6  Surface Temperature:                    -87 to -5 °C\n",
       " 7         First Record:               2nd millennium BC\n",
       " 8          Recorded By:            Egyptian astronomers]"
      ]
     },
     "execution_count": 13,
     "metadata": {},
     "output_type": "execute_result"
    }
   ],
   "source": [
    "# bring the HTML into pandas\n",
    "lstMarsFacts = pd.read_html(htmlMarsFacts)\n",
    "lstMarsFacts"
   ]
  },
  {
   "cell_type": "code",
   "execution_count": 14,
   "metadata": {},
   "outputs": [
    {
     "data": {
      "text/html": [
       "<div>\n",
       "<style scoped>\n",
       "    .dataframe tbody tr th:only-of-type {\n",
       "        vertical-align: middle;\n",
       "    }\n",
       "\n",
       "    .dataframe tbody tr th {\n",
       "        vertical-align: top;\n",
       "    }\n",
       "\n",
       "    .dataframe thead th {\n",
       "        text-align: right;\n",
       "    }\n",
       "</style>\n",
       "<table border=\"1\" class=\"dataframe\">\n",
       "  <thead>\n",
       "    <tr style=\"text-align: right;\">\n",
       "      <th></th>\n",
       "      <th>Factoid</th>\n",
       "      <th>Value</th>\n",
       "    </tr>\n",
       "  </thead>\n",
       "  <tbody>\n",
       "    <tr>\n",
       "      <th>0</th>\n",
       "      <td>Equatorial Diameter:</td>\n",
       "      <td>6,792 km</td>\n",
       "    </tr>\n",
       "    <tr>\n",
       "      <th>1</th>\n",
       "      <td>Polar Diameter:</td>\n",
       "      <td>6,752 km</td>\n",
       "    </tr>\n",
       "    <tr>\n",
       "      <th>2</th>\n",
       "      <td>Mass:</td>\n",
       "      <td>6.39 × 10^23 kg  (0.11 Earths)</td>\n",
       "    </tr>\n",
       "    <tr>\n",
       "      <th>3</th>\n",
       "      <td>Moons:</td>\n",
       "      <td>2 (  Phobos  &amp;  Deimos  )</td>\n",
       "    </tr>\n",
       "    <tr>\n",
       "      <th>4</th>\n",
       "      <td>Orbit Distance:</td>\n",
       "      <td>227,943,824 km  (1.38 AU)</td>\n",
       "    </tr>\n",
       "    <tr>\n",
       "      <th>5</th>\n",
       "      <td>Orbit Period:</td>\n",
       "      <td>687 days (1.9 years)</td>\n",
       "    </tr>\n",
       "    <tr>\n",
       "      <th>6</th>\n",
       "      <td>Surface Temperature:</td>\n",
       "      <td>-87 to -5 °C</td>\n",
       "    </tr>\n",
       "    <tr>\n",
       "      <th>7</th>\n",
       "      <td>First Record:</td>\n",
       "      <td>2nd millennium BC</td>\n",
       "    </tr>\n",
       "    <tr>\n",
       "      <th>8</th>\n",
       "      <td>Recorded By:</td>\n",
       "      <td>Egyptian astronomers</td>\n",
       "    </tr>\n",
       "  </tbody>\n",
       "</table>\n",
       "</div>"
      ],
      "text/plain": [
       "                Factoid                           Value\n",
       "0  Equatorial Diameter:                        6,792 km\n",
       "1       Polar Diameter:                        6,752 km\n",
       "2                 Mass:  6.39 × 10^23 kg  (0.11 Earths)\n",
       "3                Moons:       2 (  Phobos  &  Deimos  )\n",
       "4       Orbit Distance:       227,943,824 km  (1.38 AU)\n",
       "5         Orbit Period:            687 days (1.9 years)\n",
       "6  Surface Temperature:                    -87 to -5 °C\n",
       "7         First Record:               2nd millennium BC\n",
       "8          Recorded By:            Egyptian astronomers"
      ]
     },
     "execution_count": 14,
     "metadata": {},
     "output_type": "execute_result"
    }
   ],
   "source": [
    "# note that read_html returns a list of DataFrames. we want the zeroth DataFrame.\n",
    "dfMarsFacts = lstMarsFacts[0]\n",
    "dfMarsFacts = dfMarsFacts.rename(columns={0:'Factoid',1:'Value'})\n",
    "dfMarsFacts"
   ]
  },
  {
   "cell_type": "markdown",
   "metadata": {},
   "source": [
    "### 1.5) _JPL Featured Space Image_: grab full-size image URL"
   ]
  },
  {
   "cell_type": "code",
   "execution_count": 15,
   "metadata": {},
   "outputs": [],
   "source": [
    "# define URL\n",
    "strURL = 'https://www.jpl.nasa.gov/spaceimages/?search=&category=Mars'"
   ]
  },
  {
   "cell_type": "code",
   "execution_count": 16,
   "metadata": {},
   "outputs": [],
   "source": [
    "# get URL of large image in several steps:\n",
    "# (1) visit page\n",
    "brsr = init_browser()\n",
    "brsr.visit(strURL)\n",
    "time.sleep(2)"
   ]
  },
  {
   "cell_type": "code",
   "execution_count": 17,
   "metadata": {},
   "outputs": [],
   "source": [
    "# (2) click \"Full Image\" button\n",
    "brsr.click_link_by_partial_text('FULL IMAGE')\n",
    "time.sleep(2)"
   ]
  },
  {
   "cell_type": "code",
   "execution_count": 18,
   "metadata": {},
   "outputs": [],
   "source": [
    "# (3) click \"more info\" button\n",
    "brsr.click_link_by_partial_text('more info')\n",
    "time.sleep(2)"
   ]
  },
  {
   "cell_type": "code",
   "execution_count": 19,
   "metadata": {},
   "outputs": [
    {
     "data": {
      "text/plain": [
       "'https://www.jpl.nasa.gov/spaceimages/images/largesize/PIA18840_hires.jpg'"
      ]
     },
     "execution_count": 19,
     "metadata": {},
     "output_type": "execute_result"
    }
   ],
   "source": [
    "# (4) grab href of img tab with the \"main_image\" class\n",
    "html = brsr.html\n",
    "soupImg = bs(html, 'html.parser')\n",
    "brsr.quit()\n",
    "featured_image_url = 'https://www.jpl.nasa.gov' + soupImg.find('img', class_='main_image')['src']\n",
    "featured_image_url"
   ]
  },
  {
   "cell_type": "markdown",
   "metadata": {},
   "source": [
    "### 1.6) _Mars Hemispheres_: grab hemispheres' images and names"
   ]
  },
  {
   "cell_type": "code",
   "execution_count": 20,
   "metadata": {},
   "outputs": [],
   "source": [
    "# define URL\n",
    "strURL = 'https://astrogeology.usgs.gov/search/results?q=hemisphere+enhanced&k1=target&v1=Mars'"
   ]
  },
  {
   "cell_type": "code",
   "execution_count": 21,
   "metadata": {},
   "outputs": [],
   "source": [
    "# get URLs of four hemispheres' images in several steps:\n",
    "# (1) visit page\n",
    "brsr = init_browser()\n",
    "brsr.visit(strURL)\n",
    "time.sleep(2)"
   ]
  },
  {
   "cell_type": "code",
   "execution_count": 22,
   "metadata": {},
   "outputs": [
    {
     "data": {
      "text/plain": [
       "['https://astrogeology.usgs.gov/search/map/Mars/Viking/cerberus_enhanced',\n",
       " 'https://astrogeology.usgs.gov/search/map/Mars/Viking/schiaparelli_enhanced',\n",
       " 'https://astrogeology.usgs.gov/search/map/Mars/Viking/syrtis_major_enhanced',\n",
       " 'https://astrogeology.usgs.gov/search/map/Mars/Viking/valles_marineris_enhanced']"
      ]
     },
     "execution_count": 22,
     "metadata": {},
     "output_type": "execute_result"
    }
   ],
   "source": [
    "# (2) define Hemispheres list, capture links\n",
    "lstHemi = []\n",
    "html = brsr.html\n",
    "soupHemi = bs(html, 'html.parser')\n",
    "for tag in soupHemi.find_all('a', class_='itemLink product-item'):\n",
    "    strURL = 'https://astrogeology.usgs.gov' + tag['href']\n",
    "    if(len(lstHemi) == 0 or lstHemi[-1] != strURL):\n",
    "        lstHemi.append('https://astrogeology.usgs.gov' + tag['href'])\n",
    "lstHemi"
   ]
  },
  {
   "cell_type": "code",
   "execution_count": 23,
   "metadata": {},
   "outputs": [
    {
     "data": {
      "text/plain": [
       "[{'title': 'Cerberus Hemisphere',\n",
       "  'img': 'https://astrogeology.usgs.gov/cache/images/cfa62af2557222a02478f1fcd781d445_cerberus_enhanced.tif_full.jpg'},\n",
       " {'title': 'Schiaparelli Hemisphere',\n",
       "  'img': 'https://astrogeology.usgs.gov/cache/images/3cdd1cbf5e0813bba925c9030d13b62e_schiaparelli_enhanced.tif_full.jpg'},\n",
       " {'title': 'Syrtis Major Hemisphere',\n",
       "  'img': 'https://astrogeology.usgs.gov/cache/images/ae209b4e408bb6c3e67b6af38168cf28_syrtis_major_enhanced.tif_full.jpg'},\n",
       " {'title': 'Valles Marineris Hemisphere',\n",
       "  'img': 'https://astrogeology.usgs.gov/cache/images/7cf2da4bf549ed01c17f206327be4db7_valles_marineris_enhanced.tif_full.jpg'}]"
      ]
     },
     "execution_count": 23,
     "metadata": {},
     "output_type": "execute_result"
    }
   ],
   "source": [
    "# (3) define hemisphere_image_urls, navigate to each page and populate hemisphere_image_urls\n",
    "hemisphere_image_urls = []\n",
    "for strURL in lstHemi:\n",
    "    brsr.visit(strURL)\n",
    "    time.sleep(2)\n",
    "    html = brsr.html\n",
    "    soupHemiPg = bs(html, 'html.parser')\n",
    "    hemisphere_image_urls.append( \\\n",
    "        {'title': soupHemiPg.find('title').text.replace(' Enhanced | USGS Astrogeology Science Center', ''), \\\n",
    "         'img': 'https://astrogeology.usgs.gov' + soupHemiPg.find('img', class_='wide-image')['src']})\n",
    "brsr.quit()\n",
    "hemisphere_image_urls"
   ]
  }
 ],
 "metadata": {
  "kernelspec": {
   "display_name": "Python 3",
   "language": "python",
   "name": "python3"
  },
  "language_info": {
   "codemirror_mode": {
    "name": "ipython",
    "version": 3
   },
   "file_extension": ".py",
   "mimetype": "text/x-python",
   "name": "python",
   "nbconvert_exporter": "python",
   "pygments_lexer": "ipython3",
   "version": "3.7.3"
  }
 },
 "nbformat": 4,
 "nbformat_minor": 2
}
